{
 "cells": [
  {
   "cell_type": "markdown",
   "metadata": {},
   "source": [
    "# Project Ideas\n",
    "________________________________________________________________________________________________________________________________\n",
    "________________________________________________________________________________________________________________________________\n",
    "\n",
    "## Kaggle Meta Data\n",
    "\n",
    "    Problem: what type of model will get you the highest rank?\n",
    "\n",
    "    Data: https://www.kaggle.com/kaggle/meta-kaggle\n",
    "    \n",
    "    Hypothesis: We can create a model that would predict your ranking of your submissions.\n",
    "    \n",
    "\n",
    "## TxDOT Bid Data\n",
    "\n",
    "    Problem: TxDOT tries to guess the project cost so they can allocate resources and have a budget. But they only use averages of item prices that will then be bid on. I think we could improve their model.\n",
    "\n",
    "    Data:  I have received data from the past 10 years of TxDot constuction projects that I can readily use.\n",
    "    \n",
    "    Hypothesis: Using project attributes such as 'length of road', date, location, and many others, I believe we can create a model that will be able to predict the lowest bid price for projects.\n",
    "    \n",
    "\n",
    "## Battlefront - Game Data\n",
    "    \n",
    "    Problem: How can I create the perfect layout depending on the map?\n",
    "    \n",
    "    Data: Data can be taken from the game servers    \n",
    "    \n",
    "    Hypothesis: Using data from the game, I believe I can predict the number of kills you can have with each different loadout"
   ]
  }
 ],
 "metadata": {
  "kernelspec": {
   "display_name": "Python 2",
   "language": "python",
   "name": "python2"
  },
  "language_info": {
   "codemirror_mode": {
    "name": "ipython",
    "version": 2
   },
   "file_extension": ".py",
   "mimetype": "text/x-python",
   "name": "python",
   "nbconvert_exporter": "python",
   "pygments_lexer": "ipython2",
   "version": "2.7.11"
  }
 },
 "nbformat": 4,
 "nbformat_minor": 0
}
