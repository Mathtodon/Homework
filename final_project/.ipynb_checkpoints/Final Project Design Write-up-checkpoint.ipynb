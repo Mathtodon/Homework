{
 "cells": [
  {
   "cell_type": "markdown",
   "metadata": {},
   "source": [
    "# Project Design Writeup and Approval"
   ]
  },
  {
   "cell_type": "markdown",
   "metadata": {},
   "source": [
    "### Project Problem and Hypothesis"
   ]
  },
  {
   "cell_type": "markdown",
   "metadata": {},
   "source": [
    "Texas Department of Transportation has a bidding process for the construction\n",
    "projects throughout the state of Texas. These contractors are given the information about items in the bid, cost of items which are estimated by TxDOT Engineers, and can also see the other contractors who have requested information about the project. TxDOT uses the sum of estimated price per items as the estimated price per project which is in turn used as a guideline for producing a budget which is allocated to each project. Underestimating a projects cost is bad for TxDOT because they have then have to find/reallocate resources. Contracting companies would also like find this helpful to bettter compete and win bids.\n",
    "\n",
    "The estimates that TxDOT comes up with are already pretty accurate but because of certain bidding procedures that companies use to produce bid pricings, I believe that I can devices a better prediction method. Using the publicly available historical bid data.\n"
   ]
  },
  {
   "cell_type": "markdown",
   "metadata": {},
   "source": [
    "### Datasets"
   ]
  },
  {
   "cell_type": "markdown",
   "metadata": {},
   "source": [
    "I have filed an open records request and have already received a dataset containing historical project bids from 2010 to the present. This dataset contains information on projects, project bids by contractor, contractor info, and item by item bids by contractor. It is roughly 90MB in size."
   ]
  },
  {
   "cell_type": "markdown",
   "metadata": {},
   "source": [
    "### Domain Knowledge"
   ]
  },
  {
   "cell_type": "markdown",
   "metadata": {},
   "source": [
    "I found this data and question through my father who is the Head of Construction Division at TxDOT. \n",
    "\n",
    "I have also interviewed a bond writer from Zurich who knows the contractors and meets with them once a month. She was the one who explained the process the contractors go through when pricing the bids."
   ]
  },
  {
   "cell_type": "markdown",
   "metadata": {},
   "source": [
    "### Project Concerns"
   ]
  },
  {
   "cell_type": "markdown",
   "metadata": {},
   "source": [
    "Due to the time constraint of the project, I may fail to find an adequate pricing model before the course ends.\n",
    "\n",
    "I also am concerned with the data set which may need more review and manipulation than I have knowledge of."
   ]
  },
  {
   "cell_type": "markdown",
   "metadata": {},
   "source": [
    "### Outcomes"
   ]
  },
  {
   "cell_type": "markdown",
   "metadata": {},
   "source": [
    "I have thought of a couple possible models that I can try to come up with.\n",
    "\n",
    "1) A model to predict the price of winning bids\n",
    "\n",
    "2) A classification model to predict which projects will be 'under' or 'over'\n",
    "\n",
    "3) A general analysis of the data using graphs to show certain characteristics of the system such as types of distributions, and effects of increased competition\n",
    "\n",
    "4) A prediction model for the number of bidders for a certain project"
   ]
  },
  {
   "cell_type": "code",
   "execution_count": null,
   "metadata": {
    "collapsed": true
   },
   "outputs": [],
   "source": []
  }
 ],
 "metadata": {
  "kernelspec": {
   "display_name": "Python 2",
   "language": "python",
   "name": "python2"
  },
  "language_info": {
   "codemirror_mode": {
    "name": "ipython",
    "version": 2
   },
   "file_extension": ".py",
   "mimetype": "text/x-python",
   "name": "python",
   "nbconvert_exporter": "python",
   "pygments_lexer": "ipython2",
   "version": "2.7.11"
  }
 },
 "nbformat": 4,
 "nbformat_minor": 0
}
