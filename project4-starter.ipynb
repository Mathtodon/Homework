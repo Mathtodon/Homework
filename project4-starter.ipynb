{
 "cells": [
  {
   "cell_type": "code",
   "execution_count": 2,
   "metadata": {
    "collapsed": true
   },
   "outputs": [],
   "source": [
    "#imports\n",
    "from __future__ import division\n",
    "import pandas as pd\n",
    "import numpy as np\n",
    "import matplotlib.pyplot as plt\n",
    "import statsmodels.api as sm\n",
    "import pylab as pl\n",
    "import numpy as np\n",
    "%matplotlib inline\n",
    "plt.style.use('ggplot')\n",
    "import os\n",
    "import csv\n",
    "from sklearn import linear_model, cross_validation"
   ]
  },
  {
   "cell_type": "markdown",
   "metadata": {},
   "source": [
    "# Project 4\n",
    "\n",
    "In this project, you will summarize and present your analysis from Projects 1-3."
   ]
  },
  {
   "cell_type": "markdown",
   "metadata": {},
   "source": [
    "### Intro: Write a problem Statement/ Specific Aim for this project"
   ]
  },
  {
   "cell_type": "markdown",
   "metadata": {},
   "source": [
    "Answer: Using UCLA admission dataset, we wanted to see if there was an association between admission and gre, gpa, and prestige of the students undergraduate school."
   ]
  },
  {
   "cell_type": "markdown",
   "metadata": {},
   "source": [
    "### Dataset:  Write up a description of your data and any cleaning that was completed"
   ]
  },
  {
   "cell_type": "markdown",
   "metadata": {},
   "source": [
    "Answer: The dataset contained the variables 'admit', 'gre', 'gpa, and 'prestige'. We first needed to drop the \"N/A\" from the data and then we created dummy variables from the 'prestige' variable because it was a categorical variable not a continuous."
   ]
  },
  {
   "cell_type": "markdown",
   "metadata": {
    "collapsed": true
   },
   "source": [
    "### Demo: Provide a table that explains the data by admission status"
   ]
  },
  {
   "cell_type": "markdown",
   "metadata": {},
   "source": [
    "Mean (STD) or counts by admission status for each variable \n",
    "\n",
    "| Not Admitted | Admitted\n",
    "---| ---|---\n",
    "GPA | 3.347159(0.376355)  | 3.489206(0.371655)\n",
    "GRE | 573.579336(116.052798) | 618.571429(109.257233)\n",
    "Prestige 1 | 10.332 (%) | 26.1905 (%)\n",
    "Prestige 2 | 35.06 (%) | 42.0635 (%)\n",
    "Prestige 3 | 34.317 (%) | 22.2222 (%)\n",
    "Prestige 4 | 20.295 (%) | 9.5238 (%)"
   ]
  },
  {
   "cell_type": "code",
   "execution_count": 22,
   "metadata": {
    "collapsed": false
   },
   "outputs": [
    {
     "data": {
      "text/html": [
       "<div>\n",
       "<table border=\"1\" class=\"dataframe\">\n",
       "  <thead>\n",
       "    <tr style=\"text-align: right;\">\n",
       "      <th></th>\n",
       "      <th></th>\n",
       "      <th>gpa</th>\n",
       "      <th>gre</th>\n",
       "      <th>prestige</th>\n",
       "      <th>prestige_1.0</th>\n",
       "      <th>prestige_2.0</th>\n",
       "      <th>prestige_3.0</th>\n",
       "      <th>prestige_4.0</th>\n",
       "    </tr>\n",
       "    <tr>\n",
       "      <th>admit</th>\n",
       "      <th></th>\n",
       "      <th></th>\n",
       "      <th></th>\n",
       "      <th></th>\n",
       "      <th></th>\n",
       "      <th></th>\n",
       "      <th></th>\n",
       "      <th></th>\n",
       "    </tr>\n",
       "  </thead>\n",
       "  <tbody>\n",
       "    <tr>\n",
       "      <th rowspan=\"8\" valign=\"top\">0</th>\n",
       "      <th>count</th>\n",
       "      <td>271.000000</td>\n",
       "      <td>271.000000</td>\n",
       "      <td>271.000000</td>\n",
       "      <td>271.000000</td>\n",
       "      <td>271.000000</td>\n",
       "      <td>271.000000</td>\n",
       "      <td>271.000000</td>\n",
       "    </tr>\n",
       "    <tr>\n",
       "      <th>mean</th>\n",
       "      <td>3.347159</td>\n",
       "      <td>573.579336</td>\n",
       "      <td>2.645756</td>\n",
       "      <td>0.103321</td>\n",
       "      <td>0.350554</td>\n",
       "      <td>0.343173</td>\n",
       "      <td>0.202952</td>\n",
       "    </tr>\n",
       "    <tr>\n",
       "      <th>std</th>\n",
       "      <td>0.376355</td>\n",
       "      <td>116.052798</td>\n",
       "      <td>0.918922</td>\n",
       "      <td>0.304941</td>\n",
       "      <td>0.478026</td>\n",
       "      <td>0.475647</td>\n",
       "      <td>0.402941</td>\n",
       "    </tr>\n",
       "    <tr>\n",
       "      <th>min</th>\n",
       "      <td>2.260000</td>\n",
       "      <td>220.000000</td>\n",
       "      <td>1.000000</td>\n",
       "      <td>0.000000</td>\n",
       "      <td>0.000000</td>\n",
       "      <td>0.000000</td>\n",
       "      <td>0.000000</td>\n",
       "    </tr>\n",
       "    <tr>\n",
       "      <th>25%</th>\n",
       "      <td>3.080000</td>\n",
       "      <td>500.000000</td>\n",
       "      <td>2.000000</td>\n",
       "      <td>0.000000</td>\n",
       "      <td>0.000000</td>\n",
       "      <td>0.000000</td>\n",
       "      <td>0.000000</td>\n",
       "    </tr>\n",
       "    <tr>\n",
       "      <th>50%</th>\n",
       "      <td>3.340000</td>\n",
       "      <td>580.000000</td>\n",
       "      <td>3.000000</td>\n",
       "      <td>0.000000</td>\n",
       "      <td>0.000000</td>\n",
       "      <td>0.000000</td>\n",
       "      <td>0.000000</td>\n",
       "    </tr>\n",
       "    <tr>\n",
       "      <th>75%</th>\n",
       "      <td>3.610000</td>\n",
       "      <td>660.000000</td>\n",
       "      <td>3.000000</td>\n",
       "      <td>0.000000</td>\n",
       "      <td>1.000000</td>\n",
       "      <td>1.000000</td>\n",
       "      <td>0.000000</td>\n",
       "    </tr>\n",
       "    <tr>\n",
       "      <th>max</th>\n",
       "      <td>4.000000</td>\n",
       "      <td>800.000000</td>\n",
       "      <td>4.000000</td>\n",
       "      <td>1.000000</td>\n",
       "      <td>1.000000</td>\n",
       "      <td>1.000000</td>\n",
       "      <td>1.000000</td>\n",
       "    </tr>\n",
       "    <tr>\n",
       "      <th rowspan=\"8\" valign=\"top\">1</th>\n",
       "      <th>count</th>\n",
       "      <td>126.000000</td>\n",
       "      <td>126.000000</td>\n",
       "      <td>126.000000</td>\n",
       "      <td>126.000000</td>\n",
       "      <td>126.000000</td>\n",
       "      <td>126.000000</td>\n",
       "      <td>126.000000</td>\n",
       "    </tr>\n",
       "    <tr>\n",
       "      <th>mean</th>\n",
       "      <td>3.489206</td>\n",
       "      <td>618.571429</td>\n",
       "      <td>2.150794</td>\n",
       "      <td>0.261905</td>\n",
       "      <td>0.420635</td>\n",
       "      <td>0.222222</td>\n",
       "      <td>0.095238</td>\n",
       "    </tr>\n",
       "    <tr>\n",
       "      <th>std</th>\n",
       "      <td>0.371655</td>\n",
       "      <td>109.257233</td>\n",
       "      <td>0.921455</td>\n",
       "      <td>0.441426</td>\n",
       "      <td>0.495632</td>\n",
       "      <td>0.417399</td>\n",
       "      <td>0.294715</td>\n",
       "    </tr>\n",
       "    <tr>\n",
       "      <th>min</th>\n",
       "      <td>2.420000</td>\n",
       "      <td>300.000000</td>\n",
       "      <td>1.000000</td>\n",
       "      <td>0.000000</td>\n",
       "      <td>0.000000</td>\n",
       "      <td>0.000000</td>\n",
       "      <td>0.000000</td>\n",
       "    </tr>\n",
       "    <tr>\n",
       "      <th>25%</th>\n",
       "      <td>3.220000</td>\n",
       "      <td>540.000000</td>\n",
       "      <td>1.000000</td>\n",
       "      <td>0.000000</td>\n",
       "      <td>0.000000</td>\n",
       "      <td>0.000000</td>\n",
       "      <td>0.000000</td>\n",
       "    </tr>\n",
       "    <tr>\n",
       "      <th>50%</th>\n",
       "      <td>3.545000</td>\n",
       "      <td>620.000000</td>\n",
       "      <td>2.000000</td>\n",
       "      <td>0.000000</td>\n",
       "      <td>0.000000</td>\n",
       "      <td>0.000000</td>\n",
       "      <td>0.000000</td>\n",
       "    </tr>\n",
       "    <tr>\n",
       "      <th>75%</th>\n",
       "      <td>3.757500</td>\n",
       "      <td>680.000000</td>\n",
       "      <td>3.000000</td>\n",
       "      <td>1.000000</td>\n",
       "      <td>1.000000</td>\n",
       "      <td>0.000000</td>\n",
       "      <td>0.000000</td>\n",
       "    </tr>\n",
       "    <tr>\n",
       "      <th>max</th>\n",
       "      <td>4.000000</td>\n",
       "      <td>800.000000</td>\n",
       "      <td>4.000000</td>\n",
       "      <td>1.000000</td>\n",
       "      <td>1.000000</td>\n",
       "      <td>1.000000</td>\n",
       "      <td>1.000000</td>\n",
       "    </tr>\n",
       "  </tbody>\n",
       "</table>\n",
       "</div>"
      ],
      "text/plain": [
       "                    gpa         gre    prestige  prestige_1.0  prestige_2.0  \\\n",
       "admit                                                                         \n",
       "0     count  271.000000  271.000000  271.000000    271.000000    271.000000   \n",
       "      mean     3.347159  573.579336    2.645756      0.103321      0.350554   \n",
       "      std      0.376355  116.052798    0.918922      0.304941      0.478026   \n",
       "      min      2.260000  220.000000    1.000000      0.000000      0.000000   \n",
       "      25%      3.080000  500.000000    2.000000      0.000000      0.000000   \n",
       "      50%      3.340000  580.000000    3.000000      0.000000      0.000000   \n",
       "      75%      3.610000  660.000000    3.000000      0.000000      1.000000   \n",
       "      max      4.000000  800.000000    4.000000      1.000000      1.000000   \n",
       "1     count  126.000000  126.000000  126.000000    126.000000    126.000000   \n",
       "      mean     3.489206  618.571429    2.150794      0.261905      0.420635   \n",
       "      std      0.371655  109.257233    0.921455      0.441426      0.495632   \n",
       "      min      2.420000  300.000000    1.000000      0.000000      0.000000   \n",
       "      25%      3.220000  540.000000    1.000000      0.000000      0.000000   \n",
       "      50%      3.545000  620.000000    2.000000      0.000000      0.000000   \n",
       "      75%      3.757500  680.000000    3.000000      1.000000      1.000000   \n",
       "      max      4.000000  800.000000    4.000000      1.000000      1.000000   \n",
       "\n",
       "             prestige_3.0  prestige_4.0  \n",
       "admit                                    \n",
       "0     count    271.000000    271.000000  \n",
       "      mean       0.343173      0.202952  \n",
       "      std        0.475647      0.402941  \n",
       "      min        0.000000      0.000000  \n",
       "      25%        0.000000      0.000000  \n",
       "      50%        0.000000      0.000000  \n",
       "      75%        1.000000      0.000000  \n",
       "      max        1.000000      1.000000  \n",
       "1     count    126.000000    126.000000  \n",
       "      mean       0.222222      0.095238  \n",
       "      std        0.417399      0.294715  \n",
       "      min        0.000000      0.000000  \n",
       "      25%        0.000000      0.000000  \n",
       "      50%        0.000000      0.000000  \n",
       "      75%        0.000000      0.000000  \n",
       "      max        1.000000      1.000000  "
      ]
     },
     "execution_count": 22,
     "metadata": {},
     "output_type": "execute_result"
    }
   ],
   "source": [
    "df_raw = pd.read_csv(\"../assets/admissions.csv\")\n",
    "df_drop = df_raw.dropna()\n",
    "df_new = df_drop.join(pd.get_dummies(df_raw.prestige, prefix = 'prestige'))\n",
    "df_new.groupby('admit').describe()"
   ]
  },
  {
   "cell_type": "markdown",
   "metadata": {},
   "source": [
    "### Methods: Write up the methods used in your analysis"
   ]
  },
  {
   "cell_type": "markdown",
   "metadata": {},
   "source": [
    "Answer: After creating the dummy variables, we then split the data into our X and y variables that would be used in a logistic regression. Our y variable was 'admit' and we treated the rest as our X variables. Our model was able to give us a probabilty of admittance controlling for 'gpa' 'gre' and 'prestige'. We then were able to calculate the predicted probabilities for the students in our data."
   ]
  },
  {
   "cell_type": "markdown",
   "metadata": {},
   "source": [
    "### Results: Write up your results"
   ]
  },
  {
   "cell_type": "markdown",
   "metadata": {},
   "source": [
    "Answer: Uding the model parameters and confidence intervals for those parameters: students who attended a tier 2 undergraduate school had 0.50 (CI 0.27, 0.94) the odds of being admitted to graduate school compared to students who attend a tier 1 undergraduate school. This decreased further with tier 3, OR=0.26(CI 0.13, 0.52), and tier 4, OR=0.21 (CI 0.09,  0.48), compared to tier 1 schools.  "
   ]
  },
  {
   "cell_type": "markdown",
   "metadata": {},
   "source": [
    "### Visuals: Provide a table or visualization of these results"
   ]
  },
  {
   "cell_type": "markdown",
   "metadata": {},
   "source": [
    "<img src='../assets/images/figure1.jpg' height= 75% width= 75%>"
   ]
  },
  {
   "cell_type": "markdown",
   "metadata": {},
   "source": [
    "<img src='../assets/images/figure2.jpg' height= 75% width= 75%>"
   ]
  },
  {
   "cell_type": "markdown",
   "metadata": {},
   "source": [
    "### Discussion: Write up your discussion and future steps"
   ]
  },
  {
   "cell_type": "markdown",
   "metadata": {},
   "source": [
    "Answer: \n",
    "\n",
    "Our findings indicate that students have a higher probability of being admitted into grad school if they attended a prestigous undergraduate college by a statistically significant margin. Some next steps could include exploring differences by field of study or subdividing by Division sports team rankings. "
   ]
  },
  {
   "cell_type": "code",
   "execution_count": null,
   "metadata": {
    "collapsed": true
   },
   "outputs": [],
   "source": []
  }
 ],
 "metadata": {
  "kernelspec": {
   "display_name": "Python 2",
   "language": "python",
   "name": "python2"
  },
  "language_info": {
   "codemirror_mode": {
    "name": "ipython",
    "version": 2
   },
   "file_extension": ".py",
   "mimetype": "text/x-python",
   "name": "python",
   "nbconvert_exporter": "python",
   "pygments_lexer": "ipython2",
   "version": "2.7.11"
  }
 },
 "nbformat": 4,
 "nbformat_minor": 0
}
